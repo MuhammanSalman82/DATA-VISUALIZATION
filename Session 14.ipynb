{
 "cells": [
  {
   "cell_type": "code",
   "execution_count": null,
   "id": "31d415aa",
   "metadata": {},
   "outputs": [],
   "source": [
    "import pandas as pd\n",
    "import matplotlib.pyplot as plt"
   ]
  },
  {
   "cell_type": "code",
   "execution_count": null,
   "id": "a8820e82",
   "metadata": {},
   "outputs": [],
   "source": [
    "wnba = pd.read_csv(\"wnba.csv\")"
   ]
  },
  {
   "cell_type": "code",
   "execution_count": null,
   "id": "d8475a6d",
   "metadata": {},
   "outputs": [],
   "source": [
    "wnba.head()"
   ]
  },
  {
   "cell_type": "code",
   "execution_count": null,
   "id": "ac849ccc",
   "metadata": {},
   "outputs": [],
   "source": [
    "wnba.columns"
   ]
  },
  {
   "cell_type": "code",
   "execution_count": null,
   "id": "ccda646e",
   "metadata": {},
   "outputs": [],
   "source": [
    "wnba['Experience']"
   ]
  },
  {
   "cell_type": "code",
   "execution_count": null,
   "id": "b43de242",
   "metadata": {},
   "outputs": [],
   "source": [
    "wnba['Experience'].value_counts().sort_index()"
   ]
  },
  {
   "cell_type": "code",
   "execution_count": null,
   "id": "88bd497d",
   "metadata": {},
   "outputs": [],
   "source": [
    "wnba['Experience'] = wnba['Experience'].str.replace(\"R\", \"0\").astype(int)"
   ]
  },
  {
   "cell_type": "code",
   "execution_count": null,
   "id": "2acbb72d",
   "metadata": {},
   "outputs": [],
   "source": [
    "wnba['Experience'].value_counts().sort_index()"
   ]
  },
  {
   "cell_type": "code",
   "execution_count": null,
   "id": "9775cdb1",
   "metadata": {},
   "outputs": [],
   "source": [
    "Different, direction, Size \n",
    "\n",
    "\n",
    "Nominal, Ordinal, Interval/ratio\n",
    "                   continuous/discrete"
   ]
  },
  {
   "cell_type": "code",
   "execution_count": null,
   "id": "dc62991b",
   "metadata": {},
   "outputs": [],
   "source": [
    "def exp_ord(exp):\n",
    "    if exp == 0:\n",
    "        return \"Rookie\"\n",
    "    elif exp in range(1,4):\n",
    "        return \"Little Experience\"\n",
    "    elif exp in [4,5]:\n",
    "        return \"Experienced\"\n",
    "    elif exp in range(6,11):\n",
    "        return \"Very Experienced\"\n",
    "    else:\n",
    "        return \"Veteran\"\n",
    "        "
   ]
  },
  {
   "cell_type": "code",
   "execution_count": null,
   "id": "8226df2a",
   "metadata": {},
   "outputs": [],
   "source": [
    "wnba['Experience'].shape"
   ]
  },
  {
   "cell_type": "code",
   "execution_count": null,
   "id": "cb26326e",
   "metadata": {},
   "outputs": [],
   "source": [
    "wnba['Experience']"
   ]
  },
  {
   "cell_type": "code",
   "execution_count": null,
   "id": "66a1f051",
   "metadata": {},
   "outputs": [],
   "source": [
    "wnba['Experience'].apply(exp_ord)"
   ]
  },
  {
   "cell_type": "code",
   "execution_count": null,
   "id": "630cb4d0",
   "metadata": {},
   "outputs": [],
   "source": [
    "wnba[\"Exp_ordinal\"] = wnba['Experience'].apply(exp_ord)"
   ]
  },
  {
   "cell_type": "code",
   "execution_count": null,
   "id": "59572e60",
   "metadata": {},
   "outputs": [],
   "source": [
    "wnba[\"Exp_ordinal\"].value_counts()"
   ]
  },
  {
   "cell_type": "code",
   "execution_count": null,
   "id": "8eee466d",
   "metadata": {},
   "outputs": [],
   "source": [
    "wnba[\"Exp_ordinal\"].value_counts().iloc[[-2,0,2,1,-1]]"
   ]
  },
  {
   "cell_type": "code",
   "execution_count": null,
   "id": "74487f27",
   "metadata": {},
   "outputs": [],
   "source": [
    "wnba[\"Exp_ordinal\"].value_counts().iloc[[-2,0,2,1,-1]].plot.barh(title = \"Number of players in WNBA by level of experienc\")\n",
    "plt.show()"
   ]
  },
  {
   "cell_type": "code",
   "execution_count": null,
   "id": "8c689a94",
   "metadata": {},
   "outputs": [],
   "source": [
    "wnba[\"Exp_ordinal\"].value_counts().iloc[[-2,0,2,1,-1]].plot.pie(title = \"Number of players in WNBA by level of experienc\")\n",
    "plt.show()"
   ]
  },
  {
   "cell_type": "code",
   "execution_count": null,
   "id": "11d10d79",
   "metadata": {},
   "outputs": [],
   "source": [
    "wnba[\"Exp_ordinal\"].value_counts().iloc[[-2,0,2,1,-1]].plot.pie(explode = [0,0.1,0,0.1,0],  title = \"Number of players in WNBA by level of experienc\")\n",
    "plt.show()"
   ]
  },
  {
   "cell_type": "code",
   "execution_count": null,
   "id": "4279047a",
   "metadata": {},
   "outputs": [],
   "source": [
    "wnba[\"Exp_ordinal\"].value_counts().iloc[[-2,0,2,1,-1]].plot.pie(explode = [0,0.08,0,0.1,0],autopct = \"%.2f%%\",  \n",
    "                                                                \n",
    "                                                                title = \"Number of players in WNBA by level of experienc\")\n",
    "plt.show()"
   ]
  },
  {
   "cell_type": "code",
   "execution_count": null,
   "id": "68c1560f",
   "metadata": {},
   "outputs": [],
   "source": [
    "wnba[\"Exp_ordinal\"].value_counts(normalize = True).iloc[[-2,0,2,1,-1]]*100"
   ]
  },
  {
   "cell_type": "code",
   "execution_count": null,
   "id": "1f7a3f1c",
   "metadata": {},
   "outputs": [],
   "source": [
    "wnba[\"Exp_ordinal\"].value_counts().iloc[[-2,0,2,1,-1]].plot.pie(explode = [0,0.08,0,0.1,0],autopct = \"%.2f%%\",  \n",
    "                                                                \n",
    "                                                                title = \"Number of players in WNBA by level of experienc\")\n",
    "plt.ylabel(\"\")\n",
    "plt.show()"
   ]
  },
  {
   "cell_type": "code",
   "execution_count": null,
   "id": "7b1ec6e5",
   "metadata": {},
   "outputs": [],
   "source": [
    "wnba.columns"
   ]
  },
  {
   "cell_type": "code",
   "execution_count": null,
   "id": "4c416ff3",
   "metadata": {},
   "outputs": [],
   "source": [
    "wnba[\"Pos\"]"
   ]
  },
  {
   "cell_type": "code",
   "execution_count": null,
   "id": "2d3528d0",
   "metadata": {},
   "outputs": [],
   "source": [
    "import seaborn as sns\n",
    "\n",
    "sns.countplot(x = \"Exp_ordinal\", hue = \"Pos\", data = wnba )\n",
    "\n",
    "plt.show()"
   ]
  },
  {
   "cell_type": "code",
   "execution_count": null,
   "id": "26388663",
   "metadata": {},
   "outputs": [],
   "source": [
    "import seaborn as sns\n",
    "\n",
    "sns.countplot(x = \"Exp_ordinal\", hue = \"Pos\", data = wnba, \n",
    "              order = [\"Rookie\", \"Little Experience\", \"Experienced\", \"Very Experienced\", \"Veteran\"] )\n",
    "\n",
    "plt.show()"
   ]
  },
  {
   "cell_type": "code",
   "execution_count": null,
   "id": "7f8084d4",
   "metadata": {},
   "outputs": [],
   "source": [
    "sns.countplot(x = \"Exp_ordinal\", hue = \"Pos\", data = wnba, \n",
    "              order = [\"Rookie\", \"Little Experience\", \"Experienced\", \n",
    "                       \"Very Experienced\", \"Veteran\"],\n",
    "             hue_order = [\"G\", \"G/F\", \"C\", \"F/C\", \"F\", ])\n",
    "\n",
    "plt.show()"
   ]
  },
  {
   "cell_type": "code",
   "execution_count": null,
   "id": "41fb7037",
   "metadata": {},
   "outputs": [],
   "source": [
    "wnba[\"Age\"].mean()"
   ]
  },
  {
   "cell_type": "code",
   "execution_count": null,
   "id": "ac8a984c",
   "metadata": {},
   "outputs": [],
   "source": [
    "wnba[\"MIN\"].mean()"
   ]
  },
  {
   "cell_type": "code",
   "execution_count": null,
   "id": "d12412a6",
   "metadata": {},
   "outputs": [],
   "source": [
    "wnba[\"Age\"].apply(lambda age:\"old\" if age>= 27 else \"Young\")"
   ]
  },
  {
   "cell_type": "code",
   "execution_count": null,
   "id": "0170917b",
   "metadata": {},
   "outputs": [],
   "source": [
    "wnba[\"age_cat\"] = wnba[\"Age\"].apply(lambda age:\"old\" if age>= 27 else \"Young\")\n",
    "\n",
    "wnba[\"min_cat\"] = wnba[\"MIN\"].apply(lambda Min:\"avg or above\" if Min>= 497 else \"below average\")"
   ]
  },
  {
   "cell_type": "code",
   "execution_count": null,
   "id": "d978bda1",
   "metadata": {},
   "outputs": [],
   "source": [
    "sns.set_theme()\n",
    "sns.countplot(x = \"age_cat\", hue = \"min_cat\", data = wnba)\n",
    "plt.show()"
   ]
  },
  {
   "cell_type": "code",
   "execution_count": null,
   "id": "bdd1a353",
   "metadata": {},
   "outputs": [],
   "source": [
    "wnba.groupby(\"age_cat\")[\"MIN\"].plot.hist()\n",
    "plt.show()"
   ]
  },
  {
   "cell_type": "code",
   "execution_count": null,
   "id": "f1e17d36",
   "metadata": {},
   "outputs": [],
   "source": [
    "wnba[wnba[\"Age\"]>= 27][\"MIN\"].plot.hist(label = \"old\")\n",
    "wnba[wnba[\"Age\"]< 27][\"MIN\"].plot.hist(label = \"young\")\n",
    "plt.legend()\n",
    "plt.show()"
   ]
  },
  {
   "cell_type": "code",
   "execution_count": null,
   "id": "f782f83d",
   "metadata": {},
   "outputs": [],
   "source": [
    "wnba[wnba[\"Age\"]>= 27][\"MIN\"].plot.hist(label = \"old\", histtype = \"step\")\n",
    "wnba[wnba[\"Age\"]< 27][\"MIN\"].plot.hist(label = \"young\",  histtype = \"step\")\n",
    "plt.legend()\n",
    "plt.show()"
   ]
  },
  {
   "cell_type": "code",
   "execution_count": null,
   "id": "45f33cea",
   "metadata": {},
   "outputs": [],
   "source": [
    "wnba[wnba[\"Age\"]>= 27][\"MIN\"].plot.hist(label = \"old\", histtype = \"step\")\n",
    "wnba[wnba[\"Age\"]< 27][\"MIN\"].plot.hist(label = \"young\",  histtype = \"step\")\n",
    "plt.axvline(497, label = \"Average\", alpha = 0.3)\n",
    "plt.legend(loc = \"lower left\")\n",
    "plt.show()"
   ]
  },
  {
   "cell_type": "code",
   "execution_count": null,
   "id": "f030c1d2",
   "metadata": {},
   "outputs": [],
   "source": [
    "wnba[\"Age\"].min()"
   ]
  },
  {
   "cell_type": "code",
   "execution_count": null,
   "id": "5e6b3ddf",
   "metadata": {},
   "outputs": [],
   "source": [
    "wnba[\"Age\"].max()"
   ]
  },
  {
   "cell_type": "code",
   "execution_count": null,
   "id": "f6f89d68",
   "metadata": {},
   "outputs": [],
   "source": [
    "wnba[wnba[\"Age\"]>= 27][\"MIN\"].plot.kde(label = \"old\")\n",
    "wnba[wnba[\"Age\"]< 27][\"MIN\"].plot.kde(label = \"young\")\n",
    "plt.axvline(497, label = \"Average\", alpha = 0.3)\n",
    "plt.legend(loc = \"lower left\")\n",
    "plt.show()"
   ]
  },
  {
   "cell_type": "code",
   "execution_count": null,
   "id": "ced74e06",
   "metadata": {},
   "outputs": [],
   "source": [
    "wnba[\"Pos\"]"
   ]
  },
  {
   "cell_type": "code",
   "execution_count": null,
   "id": "6aff83b9",
   "metadata": {},
   "outputs": [],
   "source": [
    "positions = wnba[\"Pos\"].unique()\n",
    "positions"
   ]
  },
  {
   "cell_type": "code",
   "execution_count": null,
   "id": "08732cb5",
   "metadata": {},
   "outputs": [],
   "source": [
    "plt.subplot(1,1,1)\n",
    "\n",
    "for pos in positions:\n",
    "    bol_pos = wnba[\"Pos\"] == pos\n",
    "    wnba[bol_pos][\"Height\"].plot.kde(label = pos)\n",
    "plt.legend()   \n",
    "plt.show()"
   ]
  },
  {
   "cell_type": "code",
   "execution_count": null,
   "id": "1af3b3ac",
   "metadata": {},
   "outputs": [],
   "source": [
    "sns.stripplot(x = \"Pos\", y = \"Height\" , data = wnba)\n",
    "plt.show()"
   ]
  },
  {
   "cell_type": "code",
   "execution_count": null,
   "id": "5d76b072",
   "metadata": {},
   "outputs": [],
   "source": [
    "sns.stripplot(x = \"Pos\", y = \"Height\" , data = wnba, jitter = False)\n",
    "plt.show()"
   ]
  },
  {
   "cell_type": "code",
   "execution_count": null,
   "id": "9026db86",
   "metadata": {},
   "outputs": [],
   "source": [
    "wnba[\"Weight\"].describe()"
   ]
  },
  {
   "cell_type": "code",
   "execution_count": null,
   "id": "683e6362",
   "metadata": {},
   "outputs": [],
   "source": [
    "wnba[\"Weight\"].plot.hist()\n",
    "plt.show()"
   ]
  },
  {
   "cell_type": "code",
   "execution_count": null,
   "id": "383ae963",
   "metadata": {},
   "outputs": [],
   "source": [
    "sns.boxplot(x = \"Pos\", y = \"Height\", data = wnba) # box and whisker\n",
    "plt.show()"
   ]
  },
  {
   "cell_type": "code",
   "execution_count": null,
   "id": "2bc3f38e",
   "metadata": {},
   "outputs": [],
   "source": [
    "sns.boxplot(x = \"Pos\", y = \"Weight\", data = wnba, whis = 1.5)\n",
    "plt.show()"
   ]
  },
  {
   "cell_type": "code",
   "execution_count": null,
   "id": "ad2d96a5",
   "metadata": {},
   "outputs": [],
   "source": [
    "wnba[wnba[\"Pos\"] == \"F\"][\"Weight\"].describe()"
   ]
  },
  {
   "cell_type": "code",
   "execution_count": null,
   "id": "c472a180",
   "metadata": {},
   "outputs": [],
   "source": [
    "iqr = 86-79"
   ]
  },
  {
   "cell_type": "code",
   "execution_count": null,
   "id": "d30660ae",
   "metadata": {},
   "outputs": [],
   "source": [
    "value = iqr*1.5"
   ]
  },
  {
   "cell_type": "code",
   "execution_count": null,
   "id": "a229b3af",
   "metadata": {},
   "outputs": [],
   "source": [
    "value"
   ]
  },
  {
   "cell_type": "code",
   "execution_count": null,
   "id": "ecc40858",
   "metadata": {},
   "outputs": [],
   "source": [
    "lower_bound = 79-(iqr*1.5)\n",
    "\n",
    "lower_bound"
   ]
  },
  {
   "cell_type": "code",
   "execution_count": null,
   "id": "9883f21b",
   "metadata": {},
   "outputs": [],
   "source": [
    "upper_bound = 86+(iqr*1.5)\n",
    "\n",
    "upper_bound"
   ]
  },
  {
   "cell_type": "code",
   "execution_count": null,
   "id": "fa26f878",
   "metadata": {},
   "outputs": [],
   "source": [
    "wnba[wnba[\"Pos\"] == \"C\"][\"Height\"].describe()"
   ]
  },
  {
   "cell_type": "code",
   "execution_count": null,
   "id": "d851a3fc",
   "metadata": {},
   "outputs": [],
   "source": []
  }
 ],
 "metadata": {
  "kernelspec": {
   "display_name": "Python 3 (ipykernel)",
   "language": "python",
   "name": "python3"
  },
  "language_info": {
   "codemirror_mode": {
    "name": "ipython",
    "version": 3
   },
   "file_extension": ".py",
   "mimetype": "text/x-python",
   "name": "python",
   "nbconvert_exporter": "python",
   "pygments_lexer": "ipython3",
   "version": "3.11.4"
  }
 },
 "nbformat": 4,
 "nbformat_minor": 5
}
